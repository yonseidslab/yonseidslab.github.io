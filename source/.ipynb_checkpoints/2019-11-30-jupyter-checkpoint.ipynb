{
 "cells": [
  {
   "cell_type": "markdown",
   "metadata": {},
   "source": [
    "# 데이터 과학을 위한 파이썬\n",
    "\n",
    "## 목차\n",
    "\n",
    "1. 자료형과 연산자(1)\n",
    "2. 자료형과 연산자(2)\n",
    "3. 제어문\n",
    "4. Pandas: 데이터프레임 & 시리즈\n",
    "5. Matplot&Seaborn: 시각화"
   ]
  }
 ],
 "metadata": {
  "kernelspec": {
   "display_name": "Python 3",
   "language": "python",
   "name": "python3"
  },
  "language_info": {
   "codemirror_mode": {
    "name": "ipython",
    "version": 3
   },
   "file_extension": ".py",
   "mimetype": "text/x-python",
   "name": "python",
   "nbconvert_exporter": "python",
   "pygments_lexer": "ipython3",
   "version": "3.7.4"
  }
 },
 "nbformat": 4,
 "nbformat_minor": 2
}
